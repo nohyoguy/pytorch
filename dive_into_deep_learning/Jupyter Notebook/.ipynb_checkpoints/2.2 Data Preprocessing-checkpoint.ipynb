{
 "cells": [
  {
   "cell_type": "markdown",
   "id": "fb2f41cf",
   "metadata": {},
   "source": [
    "# 2.2 Data Preprocessing"
   ]
  },
  {
   "cell_type": "markdown",
   "id": "0b12031c",
   "metadata": {},
   "source": [
    "## 2.2.1. Reading the Dataset"
   ]
  },
  {
   "cell_type": "markdown",
   "id": "c480f1a1",
   "metadata": {},
   "source": [
    "creating an artificial dataset that is stored in a csv"
   ]
  },
  {
   "cell_type": "code",
   "execution_count": 1,
   "id": "dc03a932",
   "metadata": {},
   "outputs": [],
   "source": [
    "import os\n",
    "\n",
    "os.makedirs(os.path.join('..', 'data'), exist_ok=True)\n",
    "data_file = os.path.join('..', 'data', 'house_tiny.csv')\n",
    "with open(data_file, 'w') as f:\n",
    "    f.write('NumRooms,Alley,Price\\n')  # Column names\n",
    "    f.write('NA,Pave,127500\\n')  # Each row represents a data example\n",
    "    f.write('2,NA,106000\\n')\n",
    "    f.write('4,NA,178100\\n')\n",
    "    f.write('NA,NA,140000\\n')"
   ]
  },
  {
   "cell_type": "markdown",
   "id": "792bf1ab",
   "metadata": {},
   "source": [
    "lead the raw dataset from the created csv file"
   ]
  },
  {
   "cell_type": "code",
   "execution_count": 2,
   "id": "6fec234b",
   "metadata": {},
   "outputs": [
    {
     "name": "stdout",
     "output_type": "stream",
     "text": [
      "   NumRooms Alley   Price\n",
      "0       NaN  Pave  127500\n",
      "1       2.0   NaN  106000\n",
      "2       4.0   NaN  178100\n",
      "3       NaN   NaN  140000\n"
     ]
    }
   ],
   "source": [
    "import pandas as pd\n",
    "\n",
    "data = pd.read_csv(data_file)\n",
    "print(data)"
   ]
  },
  {
   "cell_type": "markdown",
   "id": "ca2a5f76",
   "metadata": {},
   "source": [
    "---\n",
    "## 2.2.2. Handling Missing Data\n",
    "Note that “NaN” entries are missing values.<br>\n",
    "By integer-location based indexing (iloc), we split data into inputs and outputs, where the former takes the first two columns while the latter only keeps the last column."
   ]
  },
  {
   "cell_type": "code",
   "execution_count": 3,
   "id": "067cc197",
   "metadata": {},
   "outputs": [
    {
     "name": "stdout",
     "output_type": "stream",
     "text": [
      "   NumRooms Alley\n",
      "0       3.0  Pave\n",
      "1       2.0   3.0\n",
      "2       4.0   3.0\n",
      "3       3.0   3.0\n"
     ]
    }
   ],
   "source": [
    "inputs, outputs = data.iloc[:, 0:2], data.iloc[:, 2]\n",
    "inputs = inputs.fillna(inputs.iloc[:,0].mean())\n",
    "print(inputs)"
   ]
  },
  {
   "cell_type": "markdown",
   "id": "9c7b8d4a",
   "metadata": {},
   "source": [
    "---\n",
    "## 2.2.3. Conversion to the Tensor Format\n",
    "Now that all the entries in inputs and outputs are numerical, they can be converted to the tensor format.<br>"
   ]
  },
  {
   "cell_type": "code",
   "execution_count": 15,
   "id": "5c973818",
   "metadata": {},
   "outputs": [
    {
     "data": {
      "text/plain": [
       "array([[3.0, 'Pave'],\n",
       "       [2.0, 3.0],\n",
       "       [4.0, 3.0],\n",
       "       [3.0, 3.0]], dtype=object)"
      ]
     },
     "execution_count": 15,
     "metadata": {},
     "output_type": "execute_result"
    }
   ],
   "source": [
    "import torch\n",
    "\n",
    "inputs.values\n",
    "# X = torch.tensor(inputs.values)"
   ]
  },
  {
   "cell_type": "code",
   "execution_count": null,
   "id": "e80d909e",
   "metadata": {},
   "outputs": [],
   "source": []
  }
 ],
 "metadata": {
  "kernelspec": {
   "display_name": "Python 3 (ipykernel)",
   "language": "python",
   "name": "python3"
  },
  "language_info": {
   "codemirror_mode": {
    "name": "ipython",
    "version": 3
   },
   "file_extension": ".py",
   "mimetype": "text/x-python",
   "name": "python",
   "nbconvert_exporter": "python",
   "pygments_lexer": "ipython3",
   "version": "3.9.12"
  }
 },
 "nbformat": 4,
 "nbformat_minor": 5
}
